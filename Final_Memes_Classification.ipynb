{
  "nbformat": 4,
  "nbformat_minor": 0,
  "metadata": {
    "colab": {
      "name": "Final Memes Classification.ipynb",
      "provenance": [],
      "collapsed_sections": [],
      "machine_shape": "hm"
    },
    "kernelspec": {
      "name": "python3",
      "display_name": "Python 3"
    },
    "accelerator": "GPU"
  },
  "cells": [
    {
      "cell_type": "code",
      "metadata": {
        "id": "J19fdGuMOuiE",
        "colab_type": "code",
        "outputId": "444d892f-cf41-4c71-97f7-bf721cbec282",
        "colab": {
          "base_uri": "https://localhost:8080/",
          "height": 80
        }
      },
      "source": [
        "import keras\n",
        "from keras.models import load_model\n",
        "from joblib import load, dump\n",
        "import numpy as np\n"
      ],
      "execution_count": 1,
      "outputs": [
        {
          "output_type": "stream",
          "text": [
            "Using TensorFlow backend.\n"
          ],
          "name": "stderr"
        },
        {
          "output_type": "display_data",
          "data": {
            "text/html": [
              "<p style=\"color: red;\">\n",
              "The default version of TensorFlow in Colab will soon switch to TensorFlow 2.x.<br>\n",
              "We recommend you <a href=\"https://www.tensorflow.org/guide/migrate\" target=\"_blank\">upgrade</a> now \n",
              "or ensure your notebook will continue to use TensorFlow 1.x via the <code>%tensorflow_version 1.x</code> magic:\n",
              "<a href=\"https://colab.research.google.com/notebooks/tensorflow_version.ipynb\" target=\"_blank\">more info</a>.</p>\n"
            ],
            "text/plain": [
              "<IPython.core.display.HTML object>"
            ]
          },
          "metadata": {
            "tags": []
          }
        }
      ]
    },
    {
      "cell_type": "code",
      "metadata": {
        "id": "wfPC2NhZPMHu",
        "colab_type": "code",
        "outputId": "9f7f098d-6e19-4677-cfb2-4550f9eef361",
        "colab": {
          "base_uri": "https://localhost:8080/",
          "height": 122
        }
      },
      "source": [
        "from google.colab import drive\n",
        "drive.mount('/content/drive')\n",
        "\n",
        "import os\n",
        "os.chdir(\"/content/drive/My Drive/Memes Detection\")"
      ],
      "execution_count": 2,
      "outputs": [
        {
          "output_type": "stream",
          "text": [
            "Go to this URL in a browser: https://accounts.google.com/o/oauth2/auth?client_id=947318989803-6bn6qk8qdgf4n4g3pfee6491hc0brc4i.apps.googleusercontent.com&redirect_uri=urn%3aietf%3awg%3aoauth%3a2.0%3aoob&response_type=code&scope=email%20https%3a%2f%2fwww.googleapis.com%2fauth%2fdocs.test%20https%3a%2f%2fwww.googleapis.com%2fauth%2fdrive%20https%3a%2f%2fwww.googleapis.com%2fauth%2fdrive.photos.readonly%20https%3a%2f%2fwww.googleapis.com%2fauth%2fpeopleapi.readonly\n",
            "\n",
            "Enter your authorization code:\n",
            "··········\n",
            "Mounted at /content/drive\n"
          ],
          "name": "stdout"
        }
      ]
    },
    {
      "cell_type": "code",
      "metadata": {
        "id": "WmWGE-Vh2blr",
        "colab_type": "code",
        "colab": {}
      },
      "source": [
        "import pandas as pd\n",
        "import seaborn as sns\n",
        "\n",
        "\n",
        "def plotErrorGraph(history, ep=30):\n",
        "\n",
        "    # Making the plot larger\n",
        "    plt.figure(figsize=(12, 8))\n",
        "\n",
        "    loss = history.history['loss']                          # Loss on the training data\n",
        "    val_loss = history.history['val_loss']                  # Loss on the validation data\n",
        "    epochs = range(1, ep+1)\n",
        "\n",
        "    plt.plot(epochs, loss, 'ro-', label='Training Loss')\n",
        "    plt.plot(epochs, val_loss, 'go-', label = 'Validation Loss')\n",
        "    plt.legend()"
      ],
      "execution_count": 0,
      "outputs": []
    },
    {
      "cell_type": "code",
      "metadata": {
        "id": "HRl9mZDxPirO",
        "colab_type": "code",
        "colab": {}
      },
      "source": [
        "def data():\n",
        "    X_train = load('pkl_files/X_train.pkl')\n",
        "    y_train = load('pkl_files/y_train.pkl')\n",
        "    X_val = load('pkl_files/X_val.pkl')\n",
        "    y_val = load('pkl_files/y_val.pkl')\n",
        "    X_test = load('pkl_files/X_test.pkl')\n",
        "    y_test = load('pkl_files/y_test.pkl')\n",
        "\n",
        "    return X_train, y_train, X_val, y_val, X_test,y_test\n",
        "\n",
        "X_train, y_train, X_val, y_val, X_test,y_test  = data()"
      ],
      "execution_count": 0,
      "outputs": []
    },
    {
      "cell_type": "code",
      "metadata": {
        "id": "gYVZStuMPk-x",
        "colab_type": "code",
        "outputId": "ebc4c71d-7bfb-485b-936d-8c024fda4f21",
        "colab": {
          "base_uri": "https://localhost:8080/",
          "height": 68
        }
      },
      "source": [
        "print('Train X--', X_train.shape,'y --', y_train.shape  )\n",
        "print('Test X--', X_test.shape,'y --', y_test.shape  )\n",
        "print('Validation X--', X_val.shape,'y --', y_val.shape  )"
      ],
      "execution_count": 5,
      "outputs": [
        {
          "output_type": "stream",
          "text": [
            "Train X-- (15489, 1, 224, 224, 3) y -- (15489,)\n",
            "Test X-- (3356, 1, 224, 224, 3) y -- (3356,)\n",
            "Validation X-- (3359, 1, 224, 224, 3) y -- (3359,)\n"
          ],
          "name": "stdout"
        }
      ]
    },
    {
      "cell_type": "code",
      "metadata": {
        "id": "1HjkN84DPnyI",
        "colab_type": "code",
        "colab": {}
      },
      "source": [
        "def reshape_array(X):\n",
        "\n",
        "  '''  \n",
        "  reshape input data. Convert to 4 dimensions [size, width, height,  pixel]\n",
        "  '''\n",
        "  X=np.rollaxis(X,1,0)\n",
        "\n",
        "  X=X[0]\n",
        "  X.shape\n",
        "  return X"
      ],
      "execution_count": 0,
      "outputs": []
    },
    {
      "cell_type": "code",
      "metadata": {
        "id": "wZ4fM3PrPqR8",
        "colab_type": "code",
        "outputId": "f4629526-9510-46ac-d1c6-8a4aac20dca4",
        "colab": {
          "base_uri": "https://localhost:8080/",
          "height": 34
        }
      },
      "source": [
        "X_val = reshape_array(X_val)\n",
        "X_val.shape"
      ],
      "execution_count": 7,
      "outputs": [
        {
          "output_type": "execute_result",
          "data": {
            "text/plain": [
              "(3359, 224, 224, 3)"
            ]
          },
          "metadata": {
            "tags": []
          },
          "execution_count": 7
        }
      ]
    },
    {
      "cell_type": "code",
      "metadata": {
        "id": "DuBakH-zPtHB",
        "colab_type": "code",
        "outputId": "ae4499ff-e522-4eae-c7ac-1987d939d5f4",
        "colab": {
          "base_uri": "https://localhost:8080/",
          "height": 34
        }
      },
      "source": [
        "X_train = reshape_array(X_train)\n",
        "X_train.shape"
      ],
      "execution_count": 8,
      "outputs": [
        {
          "output_type": "execute_result",
          "data": {
            "text/plain": [
              "(15489, 224, 224, 3)"
            ]
          },
          "metadata": {
            "tags": []
          },
          "execution_count": 8
        }
      ]
    },
    {
      "cell_type": "code",
      "metadata": {
        "id": "KVAAFJi2PvbA",
        "colab_type": "code",
        "outputId": "349a5d78-0276-4212-ebe1-8f5de390635b",
        "colab": {
          "base_uri": "https://localhost:8080/",
          "height": 34
        }
      },
      "source": [
        "X_test = reshape_array(X_test)\n",
        "X_test.shape"
      ],
      "execution_count": 9,
      "outputs": [
        {
          "output_type": "execute_result",
          "data": {
            "text/plain": [
              "(3356, 224, 224, 3)"
            ]
          },
          "metadata": {
            "tags": []
          },
          "execution_count": 9
        }
      ]
    },
    {
      "cell_type": "code",
      "metadata": {
        "id": "Fxa_JUN5f1MR",
        "colab_type": "code",
        "colab": {
          "base_uri": "https://localhost:8080/",
          "height": 139
        },
        "outputId": "befcb4f2-4c2f-41e1-b88d-50da6898d189"
      },
      "source": [
        "keras.backend.clear_session()"
      ],
      "execution_count": 10,
      "outputs": [
        {
          "output_type": "stream",
          "text": [
            "WARNING:tensorflow:From /usr/local/lib/python3.6/dist-packages/keras/backend/tensorflow_backend.py:107: The name tf.reset_default_graph is deprecated. Please use tf.compat.v1.reset_default_graph instead.\n",
            "\n",
            "WARNING:tensorflow:From /usr/local/lib/python3.6/dist-packages/keras/backend/tensorflow_backend.py:111: The name tf.placeholder_with_default is deprecated. Please use tf.compat.v1.placeholder_with_default instead.\n",
            "\n",
            "WARNING:tensorflow:From /usr/local/lib/python3.6/dist-packages/keras/backend/tensorflow_backend.py:66: The name tf.get_default_graph is deprecated. Please use tf.compat.v1.get_default_graph instead.\n",
            "\n"
          ],
          "name": "stdout"
        }
      ]
    },
    {
      "cell_type": "markdown",
      "metadata": {
        "id": "PHyYOuofk73P",
        "colab_type": "text"
      },
      "source": [
        "### Load Final model"
      ]
    },
    {
      "cell_type": "code",
      "metadata": {
        "id": "4auOl-0KjeEq",
        "colab_type": "code",
        "colab": {
          "base_uri": "https://localhost:8080/",
          "height": 615
        },
        "outputId": "37c03dcc-dce2-45a8-ff0f-fa9269de5562"
      },
      "source": [
        "final_model = load_model('/content/drive/My Drive/Memes Detection/final_model/model.v1.h5')"
      ],
      "execution_count": 11,
      "outputs": [
        {
          "output_type": "stream",
          "text": [
            "WARNING:tensorflow:From /usr/local/lib/python3.6/dist-packages/keras/backend/tensorflow_backend.py:541: The name tf.placeholder is deprecated. Please use tf.compat.v1.placeholder instead.\n",
            "\n",
            "WARNING:tensorflow:From /usr/local/lib/python3.6/dist-packages/keras/backend/tensorflow_backend.py:4432: The name tf.random_uniform is deprecated. Please use tf.random.uniform instead.\n",
            "\n",
            "WARNING:tensorflow:From /usr/local/lib/python3.6/dist-packages/keras/backend/tensorflow_backend.py:4267: The name tf.nn.max_pool is deprecated. Please use tf.nn.max_pool2d instead.\n",
            "\n",
            "WARNING:tensorflow:From /usr/local/lib/python3.6/dist-packages/keras/backend/tensorflow_backend.py:3733: calling dropout (from tensorflow.python.ops.nn_ops) with keep_prob is deprecated and will be removed in a future version.\n",
            "Instructions for updating:\n",
            "Please use `rate` instead of `keep_prob`. Rate should be set to `rate = 1 - keep_prob`.\n",
            "WARNING:tensorflow:From /usr/local/lib/python3.6/dist-packages/keras/backend/tensorflow_backend.py:190: The name tf.get_default_session is deprecated. Please use tf.compat.v1.get_default_session instead.\n",
            "\n",
            "WARNING:tensorflow:From /usr/local/lib/python3.6/dist-packages/keras/backend/tensorflow_backend.py:197: The name tf.ConfigProto is deprecated. Please use tf.compat.v1.ConfigProto instead.\n",
            "\n",
            "WARNING:tensorflow:From /usr/local/lib/python3.6/dist-packages/keras/backend/tensorflow_backend.py:203: The name tf.Session is deprecated. Please use tf.compat.v1.Session instead.\n",
            "\n",
            "WARNING:tensorflow:From /usr/local/lib/python3.6/dist-packages/keras/backend/tensorflow_backend.py:207: The name tf.global_variables is deprecated. Please use tf.compat.v1.global_variables instead.\n",
            "\n",
            "WARNING:tensorflow:From /usr/local/lib/python3.6/dist-packages/keras/backend/tensorflow_backend.py:216: The name tf.is_variable_initialized is deprecated. Please use tf.compat.v1.is_variable_initialized instead.\n",
            "\n",
            "WARNING:tensorflow:From /usr/local/lib/python3.6/dist-packages/keras/backend/tensorflow_backend.py:223: The name tf.variables_initializer is deprecated. Please use tf.compat.v1.variables_initializer instead.\n",
            "\n",
            "WARNING:tensorflow:From /usr/local/lib/python3.6/dist-packages/keras/optimizers.py:793: The name tf.train.Optimizer is deprecated. Please use tf.compat.v1.train.Optimizer instead.\n",
            "\n",
            "WARNING:tensorflow:From /usr/local/lib/python3.6/dist-packages/keras/backend/tensorflow_backend.py:3657: The name tf.log is deprecated. Please use tf.math.log instead.\n",
            "\n",
            "WARNING:tensorflow:From /usr/local/lib/python3.6/dist-packages/tensorflow_core/python/ops/nn_impl.py:183: where (from tensorflow.python.ops.array_ops) is deprecated and will be removed in a future version.\n",
            "Instructions for updating:\n",
            "Use tf.where in 2.0, which has the same broadcast rule as np.where\n",
            "WARNING:tensorflow:From /usr/local/lib/python3.6/dist-packages/keras/backend/tensorflow_backend.py:1033: The name tf.assign_add is deprecated. Please use tf.compat.v1.assign_add instead.\n",
            "\n",
            "WARNING:tensorflow:From /usr/local/lib/python3.6/dist-packages/keras/backend/tensorflow_backend.py:1020: The name tf.assign is deprecated. Please use tf.compat.v1.assign instead.\n",
            "\n"
          ],
          "name": "stdout"
        },
        {
          "output_type": "stream",
          "text": [
            "/usr/local/lib/python3.6/dist-packages/keras/engine/saving.py:350: UserWarning: Error in loading the saved optimizer state. As a result, your model is starting with a freshly initialized optimizer.\n",
            "  warnings.warn('Error in loading the saved optimizer '\n"
          ],
          "name": "stderr"
        }
      ]
    },
    {
      "cell_type": "markdown",
      "metadata": {
        "id": "YKA9sld-lIMu",
        "colab_type": "text"
      },
      "source": [
        "#### Train Data\n"
      ]
    },
    {
      "cell_type": "code",
      "metadata": {
        "id": "N07aWI_SkAhN",
        "colab_type": "code",
        "colab": {
          "base_uri": "https://localhost:8080/",
          "height": 68
        },
        "outputId": "8e99ec3a-452b-43f2-e937-7c2fdfd660ae"
      },
      "source": [
        "print(final_model.metrics_names)\n",
        "\n",
        "score = final_model.evaluate(X_train, y_train)\n",
        "score"
      ],
      "execution_count": 12,
      "outputs": [
        {
          "output_type": "stream",
          "text": [
            "['loss', 'acc']\n",
            "15489/15489 [==============================] - 52s 3ms/step\n"
          ],
          "name": "stdout"
        },
        {
          "output_type": "execute_result",
          "data": {
            "text/plain": [
              "[0.1959342305066664, 0.9795984246884886]"
            ]
          },
          "metadata": {
            "tags": []
          },
          "execution_count": 12
        }
      ]
    },
    {
      "cell_type": "markdown",
      "metadata": {
        "id": "FfT-qPVplQSd",
        "colab_type": "text"
      },
      "source": [
        "#### Validation Data\n"
      ]
    },
    {
      "cell_type": "code",
      "metadata": {
        "id": "lTqH6Sm7kIJV",
        "colab_type": "code",
        "colab": {
          "base_uri": "https://localhost:8080/",
          "height": 68
        },
        "outputId": "6f1fe40c-484d-40c9-ad4c-b75be059ceeb"
      },
      "source": [
        "print(final_model.metrics_names)\n",
        "\n",
        "score = final_model.evaluate(X_val, y_val)\n",
        "score"
      ],
      "execution_count": 13,
      "outputs": [
        {
          "output_type": "stream",
          "text": [
            "['loss', 'acc']\n",
            "3359/3359 [==============================] - 11s 3ms/step\n"
          ],
          "name": "stdout"
        },
        {
          "output_type": "execute_result",
          "data": {
            "text/plain": [
              "[0.28459459977825, 0.9720154807978565]"
            ]
          },
          "metadata": {
            "tags": []
          },
          "execution_count": 13
        }
      ]
    },
    {
      "cell_type": "markdown",
      "metadata": {
        "id": "eDqyGP9AlUg_",
        "colab_type": "text"
      },
      "source": [
        "#### Test Data"
      ]
    },
    {
      "cell_type": "code",
      "metadata": {
        "id": "cU3w1ZM8jv1a",
        "colab_type": "code",
        "colab": {
          "base_uri": "https://localhost:8080/",
          "height": 68
        },
        "outputId": "7af6e350-e421-4f08-ce9d-0df2591e0700"
      },
      "source": [
        "print(final_model.metrics_names)\n",
        "\n",
        "score = final_model.evaluate(X_test, y_test)\n",
        "score"
      ],
      "execution_count": 14,
      "outputs": [
        {
          "output_type": "stream",
          "text": [
            "['loss', 'acc']\n",
            "3356/3356 [==============================] - 11s 3ms/step\n"
          ],
          "name": "stdout"
        },
        {
          "output_type": "execute_result",
          "data": {
            "text/plain": [
              "[0.2585759836345968, 0.9743742552076392]"
            ]
          },
          "metadata": {
            "tags": []
          },
          "execution_count": 14
        }
      ]
    },
    {
      "cell_type": "code",
      "metadata": {
        "id": "MuUrV2Y6lulX",
        "colab_type": "code",
        "colab": {
          "base_uri": "https://localhost:8080/",
          "height": 139
        },
        "outputId": "0205f610-f01c-4e10-f60a-28234a8fbe2f"
      },
      "source": [
        "def final_model_function():\n",
        "  final_model = load_model('/content/drive/My Drive/Memes Detection/final_model/model.v1.h5')\n",
        "\n",
        "  ## Train\n",
        "  tr_score = final_model.evaluate(X_train, y_train)\n",
        "  train_acc = tr_score[1]\n",
        "\n",
        "    ## validation\n",
        "  val_score = final_model.evaluate(X_val, y_val)\n",
        "  val_acc = val_score[1]\n",
        "\n",
        "    ## Test\n",
        "  te_score = final_model.evaluate(X_test, y_test)\n",
        "  te_acc = te_score[1]\n",
        "\n",
        "\n",
        "  print(train_acc, val_acc,te_acc )\n",
        "\n",
        "\n",
        "final_model_function()"
      ],
      "execution_count": 15,
      "outputs": [
        {
          "output_type": "stream",
          "text": [
            "/usr/local/lib/python3.6/dist-packages/keras/engine/saving.py:350: UserWarning: Error in loading the saved optimizer state. As a result, your model is starting with a freshly initialized optimizer.\n",
            "  warnings.warn('Error in loading the saved optimizer '\n"
          ],
          "name": "stderr"
        },
        {
          "output_type": "stream",
          "text": [
            "15489/15489 [==============================] - 46s 3ms/step\n",
            "3359/3359 [==============================] - 10s 3ms/step\n",
            "3356/3356 [==============================] - 10s 3ms/step\n",
            "0.9795984246884886 0.9720154807978565 0.9743742552076392\n"
          ],
          "name": "stdout"
        }
      ]
    }
  ]
}